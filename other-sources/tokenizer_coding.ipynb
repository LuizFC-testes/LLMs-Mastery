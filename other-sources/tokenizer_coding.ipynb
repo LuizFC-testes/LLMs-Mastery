{
 "cells": [
  {
   "cell_type": "markdown",
   "metadata": {},
   "source": [
    "**Source:** https://medium.com/analytics-vidhya/tokenization-building-a-tokenizer-and-a-sentencizer-c19a00393c19"
   ]
  },
  {
   "cell_type": "code",
   "execution_count": 1,
   "metadata": {},
   "outputs": [],
   "source": [
    "from tokenizer.core.structures import Document"
   ]
  },
  {
   "cell_type": "code",
   "execution_count": 2,
   "metadata": {},
   "outputs": [],
   "source": [
    "text1 = \"\"\"\n",
    "As girafas são os únicos membros de seu gênero e, juntas com os ocapis, \n",
    "formam a família Giraffidae. Atualmente estão listadas quatro espécies de \n",
    "girafa existentes e nove já extintas (ver abaixo), diferenciadas também pela \n",
    "distribuição geográfica e pelo padrão das manchas.\n",
    "\"\"\""
   ]
  },
  {
   "cell_type": "code",
   "execution_count": 3,
   "metadata": {},
   "outputs": [],
   "source": [
    "doc1 = Document(text1)"
   ]
  },
  {
   "cell_type": "code",
   "execution_count": 4,
   "metadata": {},
   "outputs": [
    {
     "data": {
      "text/plain": [
       "\n",
       "As girafas são os únicos membros de seu gênero e, juntas com os ocapis, \n",
       "formam a família Giraffidae. Atualmente estão listadas quatro espécies de \n",
       "girafa existentes e nove já extintas (ver abaixo), diferenciadas também pela \n",
       "distribuição geográfica e pelo padrão das manchas."
      ]
     },
     "execution_count": 4,
     "metadata": {},
     "output_type": "execute_result"
    }
   ],
   "source": [
    "doc1"
   ]
  },
  {
   "cell_type": "code",
   "execution_count": 5,
   "metadata": {},
   "outputs": [
    {
     "data": {
      "text/plain": [
       "[As girafas são os únicos membros de seu gênero e, juntas com os ocapis, \n",
       " formam a família Giraffidae.,\n",
       " Atualmente estão listadas quatro espécies de \n",
       " girafa existentes e nove já extintas (ver abaixo), diferenciadas também pela \n",
       " distribuição geográfica e pelo padrão das manchas.,\n",
       " ]"
      ]
     },
     "execution_count": 5,
     "metadata": {},
     "output_type": "execute_result"
    }
   ],
   "source": [
    "doc1.sentences"
   ]
  },
  {
   "cell_type": "code",
   "execution_count": 6,
   "metadata": {},
   "outputs": [
    {
     "data": {
      "text/plain": [
       "[<SOS>,\n",
       " As,\n",
       " girafas,\n",
       " são,\n",
       " os,\n",
       " únicos,\n",
       " membros,\n",
       " de,\n",
       " seu,\n",
       " gênero,\n",
       " e,\n",
       " ,,\n",
       " juntas,\n",
       " com,\n",
       " os,\n",
       " ocapis,\n",
       " ,,\n",
       " formam,\n",
       " a,\n",
       " família,\n",
       " Giraffidae,\n",
       " .,\n",
       " <EOS>]"
      ]
     },
     "execution_count": 6,
     "metadata": {},
     "output_type": "execute_result"
    }
   ],
   "source": [
    "doc1.sentences[0].tokens"
   ]
  },
  {
   "cell_type": "code",
   "execution_count": 7,
   "metadata": {},
   "outputs": [
    {
     "data": {
      "text/plain": [
       "[<SOS>,\n",
       " Atualmente,\n",
       " estão,\n",
       " listadas,\n",
       " quatro,\n",
       " espécies,\n",
       " de,\n",
       " girafa,\n",
       " existentes,\n",
       " e,\n",
       " nove,\n",
       " já,\n",
       " extintas,\n",
       " (,\n",
       " ver,\n",
       " abaixo,\n",
       " ),\n",
       " ,,\n",
       " diferenciadas,\n",
       " também,\n",
       " pela,\n",
       " distribuição,\n",
       " geográfica,\n",
       " e,\n",
       " pelo,\n",
       " padrão,\n",
       " das,\n",
       " manchas,\n",
       " .,\n",
       " <EOS>]"
      ]
     },
     "execution_count": 7,
     "metadata": {},
     "output_type": "execute_result"
    }
   ],
   "source": [
    "doc1.sentences[1].tokens"
   ]
  }
 ],
 "metadata": {
  "kernelspec": {
   "display_name": "Python 3",
   "language": "python",
   "name": "python3"
  },
  "language_info": {
   "codemirror_mode": {
    "name": "ipython",
    "version": 3
   },
   "file_extension": ".py",
   "mimetype": "text/x-python",
   "name": "python",
   "nbconvert_exporter": "python",
   "pygments_lexer": "ipython3",
   "version": "3.10.12"
  },
  "orig_nbformat": 4
 },
 "nbformat": 4,
 "nbformat_minor": 2
}
